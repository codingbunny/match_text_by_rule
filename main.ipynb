{
 "cells": [
  {
   "cell_type": "code",
   "execution_count": 18,
   "metadata": {},
   "outputs": [],
   "source": [
    "from rule import Rule\n",
    "from mapping import Mapping\n",
    "\n",
    "import pandas as pd\n",
    "import os"
   ]
  },
  {
   "cell_type": "code",
   "execution_count": 19,
   "metadata": {},
   "outputs": [],
   "source": [
    "path = './test_file'"
   ]
  },
  {
   "cell_type": "code",
   "execution_count": 47,
   "metadata": {},
   "outputs": [],
   "source": [
    "def create_rule():\n",
    "    input_path = path+'/brand_standard_name.csv'\n",
    "    output_path = path+'/mapping_rule.csv'\n",
    "    #load standard name\n",
    "    standard_brand = pd.read_csv(input_path)['standard_brandname']\n",
    "    # auto create rule\n",
    "    standard_rule = Rule(standard_brand).rule\n",
    "    # save rule\n",
    "    standard_rule.to_csv(output_path)\n",
    "    print(standard_rule)"
   ]
  },
  {
   "cell_type": "code",
   "execution_count": 1,
   "metadata": {},
   "outputs": [],
   "source": [
    "def create_mapping():\n",
    "    result_path = path+ '/mapping_result'\n",
    "    rule_path = path+'/mapping_rule.csv'\n",
    "    brand_origin_path = path+'/brand_name_origin.csv'\n",
    "    single_match_path = result_path + '/single_match_result.csv'\n",
    "    multi_match_path = result_path + '/multi_match_result.csv'\n",
    "    no_match_path = result_path + '/no_match_result.csv'\n",
    "    # load rule\n",
    "    rule_set = pd.read_csv(rule_path)\n",
    "    # load origin name\n",
    "    brand_name_origin = pd.read_csv(brand_origin_path)['name_origin']\n",
    "    # create mapping\n",
    "    mapping = Mapping(rule_set, brand_name_origin)\n",
    "    # get results\n",
    "    # some times, one brand name may matched multiple rules and have more than one result,\n",
    "    # this could caused by or wrong rules or wrong names filled by merchant, multi_match file need to be checked\n",
    "    single_match, multi_match, no_match = \\\n",
    "    mapping.all_result_to_csv(single_match_path, multi_match_path, no_match_path)\n",
    "    print(single_match)"
   ]
  },
  {
   "cell_type": "code",
   "execution_count": 49,
   "metadata": {},
   "outputs": [
    {
     "name": "stdout",
     "output_type": "stream",
     "text": [
      "0            dove/德芙\n",
      "1         disney/迪士尼\n",
      "2    DEPUIS 1931/费罗伦\n",
      "3    ALPENLIEBE|阿尔卑斯\n",
      "4          Candy lab\n",
      "Name: standard_brandname, dtype: object\n",
      "  equal exclude                     include           output\n",
      "0                                   dove|德芙          dove/德芙\n",
      "1                                disney|迪士尼       disney/迪士尼\n",
      "2                DEPUIS 1931|费罗伦|DEPUIS1931  DEPUIS 1931/费罗伦\n",
      "3                           ALPENLIEBE|阿尔卑斯  ALPENLIEBE|阿尔卑斯\n",
      "4                        Candy lab|Candylab        Candy lab\n"
     ]
    }
   ],
   "source": [
    "create_rule()"
   ]
  },
  {
   "cell_type": "code",
   "execution_count": 50,
   "metadata": {},
   "outputs": [
    {
     "name": "stdout",
     "output_type": "stream",
     "text": [
      "          brandname origin_brandname\n",
      "0           dove/德芙             Dove\n",
      "1           dove/德芙               德芙\n",
      "2           dove/德芙             dove\n",
      "3           dove/德芙         DOVE（德芙）\n",
      "5        disney/迪士尼              迪士尼\n",
      "6        disney/迪士尼       disneyland\n",
      "7   DEPUIS 1931/费罗伦       Depuis1931\n",
      "8   DEPUIS 1931/费罗伦              费罗伦\n",
      "9   DEPUIS 1931/费罗伦       depuis/费罗伦\n",
      "11        Candy lab         candylab\n"
     ]
    }
   ],
   "source": [
    "create_mapping()"
   ]
  },
  {
   "cell_type": "code",
   "execution_count": null,
   "metadata": {},
   "outputs": [],
   "source": []
  }
 ],
 "metadata": {
  "kernelspec": {
   "display_name": "Python 3",
   "language": "python",
   "name": "python3"
  },
  "language_info": {
   "codemirror_mode": {
    "name": "ipython",
    "version": 3
   },
   "file_extension": ".py",
   "mimetype": "text/x-python",
   "name": "python",
   "nbconvert_exporter": "python",
   "pygments_lexer": "ipython3",
   "version": "3.6.0"
  }
 },
 "nbformat": 4,
 "nbformat_minor": 1
}
